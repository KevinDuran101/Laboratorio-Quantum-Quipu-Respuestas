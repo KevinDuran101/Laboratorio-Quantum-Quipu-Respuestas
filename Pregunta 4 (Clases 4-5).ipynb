{
 "cells": [
  {
   "cell_type": "markdown",
   "metadata": {},
   "source": [
    "4.- A partir de la relación existente entre la operación (módulo 2) y el operador XOR ($\\oplus$). Mostrar:\n",
    "\n",
    "\\begin{align}\n",
    "\\sum_{i=1}^n x_iz_i \\pmod 2=x_1z_1\\oplus x_2z_2\\oplus\\cdots\\oplus x_nz_n\n",
    "\\end{align}\n"
   ]
  },
  {
   "cell_type": "markdown",
   "metadata": {},
   "source": [
    "**Respuesta**"
   ]
  },
  {
   "cell_type": "markdown",
   "metadata": {},
   "source": [
    "Se tiene que \"x\" así como \"z\" representan cadenas de n-bits. La sumatoria anterior viene dada del producto especial:\n",
    "$$ x\\cdot z $$"
   ]
  },
  {
   "cell_type": "markdown",
   "metadata": {},
   "source": [
    "Dicho producto viene dotado de la operación módulo 2 (mod 2), que toma el valor del residuo al dividir por el valor especificado, que también puede ser representado como %2"
   ]
  },
  {
   "cell_type": "markdown",
   "metadata": {},
   "source": [
    "$$ \\sum_{i=1}^n x_iz_i \\pmod 2 = \\left (\\sum_{i=1}^n x_iz_i\\right ) \\% 2 $$"
   ]
  },
  {
   "cell_type": "markdown",
   "metadata": {},
   "source": [
    "Ahora introduciremos una relación especial tal que en números binarios:\n",
    "$$ \\pmod 2 = \\oplus"
   ]
  },
  {
   "cell_type": "markdown",
   "metadata": {},
   "source": [
    "Es decir la operación mod(2) es igual y puede ser representada a través del operador XOR. Vamos a ejemplificar esta relación mediante el siguiente ejemplo"
   ]
  },
  {
   "cell_type": "markdown",
   "metadata": {},
   "source": [
    "Se tienen las siguientes operaciones con el operador XOR:\n",
    "\n",
    "1. $$ 0 \\oplus 0 = 0 $$\n",
    "2. $$ 0 \\oplus 1 = 1 $$\n",
    "3. $$ 1 \\oplus 0 = 1 $$\n",
    "4. $$ 1 \\oplus 1 = 0 $$"
   ]
  },
  {
   "cell_type": "markdown",
   "metadata": {},
   "source": [
    "Ahora desarrollaremos esas mismas operaciones pero mediante el operador mod(2):"
   ]
  },
  {
   "cell_type": "markdown",
   "metadata": {},
   "source": [
    "1. $$ \\frac{0+0}{2} =0 Resto 0 $$ \n",
    "2. $$ \\frac{0+1}{2} =0Resto1 $$ \n",
    "3. $$ \\frac{1+0}{2} =0Resto1 $$\n",
    "4. $$ \\frac{1+1}{2} =1Resto0 $$  "
   ]
  },
  {
   "cell_type": "markdown",
   "metadata": {},
   "source": [
    "Se hace enfásis en que la operación (mod) hace uso del algoritmo de Euclídes para la división dicho algoritmo:"
   ]
  },
  {
   "cell_type": "markdown",
   "metadata": {},
   "source": [
    "$$ b = aq + r $$"
   ]
  },
  {
   "cell_type": "markdown",
   "metadata": {},
   "source": [
    "Explicado entonces, hemos demostrado que en binario el operador XOR y el operador mod 2 son iguales. De modo que:\n"
   ]
  },
  {
   "cell_type": "markdown",
   "metadata": {},
   "source": [
    "$$ \\sum_{i=1}^n x_iz_i \\pmod 2 = x_{1}z_{1}\n",
    " \\oplus x_{2}z_{2}\\oplus ...\\oplus x_{n}z_{n}$$"
   ]
  },
  {
   "cell_type": "markdown",
   "metadata": {},
   "source": [
    "Lo que demuestra que el producto especial de la cadena de n-bits acompañado con la operación (mod 2) se puede representar también como el operador XOR definido, aplicado a esa cadena de n-bits mediante el respectivo operador."
   ]
  }
 ],
 "metadata": {
  "kernelspec": {
   "display_name": "base",
   "language": "python",
   "name": "python3"
  },
  "language_info": {
   "name": "python",
   "version": "3.11.4"
  },
  "orig_nbformat": 4
 },
 "nbformat": 4,
 "nbformat_minor": 2
}
