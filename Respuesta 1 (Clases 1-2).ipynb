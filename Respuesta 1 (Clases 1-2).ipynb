{
 "cells": [
  {
   "cell_type": "markdown",
   "metadata": {},
   "source": [
    "1.- ¿Cuál es el vector de estado de un sistema compuesto por 3 qubits , estando los qubits individuales(e independientes) en los estados  $|+\\rangle $ , $|+\\rangle $,$| -\\rangle $,? Luego hacer las mediciones parciales para el qubit central, repetir lo mismo con qiskit."
   ]
  },
  {
   "cell_type": "markdown",
   "metadata": {},
   "source": [
    "Vamos a escribir, nuestro primer vector de estado. Importando primeramente, todo lo que se va a utilizar."
   ]
  },
  {
   "cell_type": "code",
   "execution_count": 1,
   "metadata": {},
   "outputs": [],
   "source": [
    "from qiskit.visualization import array_to_latex\n",
    "from qiskit.quantum_info import Statevector \n",
    "import numpy as np"
   ]
  },
  {
   "cell_type": "markdown",
   "metadata": {},
   "source": [
    "Haciendo una analogía a los sistemas de dos qubits no interactuantes, se puede extrapolar la conceptualización a sistemas de 3 qubits no interactuantes, que puede colapasar en cualquiera de las 8 bases con su amplitud de probabilidad correspondiente. "
   ]
  },
  {
   "cell_type": "markdown",
   "metadata": {},
   "source": [
    "De una manera, formal, esto puede visualizarse como una superposición de 2^[n] estados clásicos, en el caso de 3 qubits, entonces se tienen 8 estados clásicos (donde n es el número de qubits). Donde el estado del sistema conformado por tres qubits no interactuantes viene representado por un vector columna de dimensión 8. "
   ]
  },
  {
   "cell_type": "markdown",
   "metadata": {},
   "source": [
    "Se tiene el siguiente ket:"
   ]
  },
  {
   "cell_type": "markdown",
   "metadata": {},
   "source": [
    "$$| \\Psi \\rangle = \\alpha_{000}|000\\rangle + \\alpha_{001}|001\\rangle + \\alpha_{010}|010\\rangle + \\alpha_{011}|011\\rangle + \\alpha_{100}|100\\rangle \\\\ +\\alpha_{101}|101\\rangle + \\alpha_{110}|110\\rangle + \\alpha_{111}|111\\rangle$$"
   ]
  },
  {
   "cell_type": "markdown",
   "metadata": {},
   "source": [
    "Su representación en forma de vector columna viene dado por:"
   ]
  },
  {
   "cell_type": "markdown",
   "metadata": {},
   "source": [
    "$$|\\Psi\\rangle  = \\begin{pmatrix}\n",
    "\\alpha_{000} \\\\\n",
    "\\alpha_{001}  \\\\\n",
    "\\alpha_{010} \\\\\n",
    "\\alpha_{011} \\\\\n",
    "\\alpha_{100} \\\\\n",
    "\\alpha_{101} \\\\\n",
    "\\alpha_{110} \\\\\n",
    "\\alpha_{111}\n",
    "\\end{pmatrix}$$"
   ]
  },
  {
   "cell_type": "markdown",
   "metadata": {},
   "source": [
    "Se tienen los estados:"
   ]
  },
  {
   "cell_type": "markdown",
   "metadata": {},
   "source": [
    "El estado $$ | + \\rangle = \\frac{1}{\\sqrt{2}}|0\\rangle - \\frac{1}{\\sqrt{2}}|1\\rangle$$ puede ser representado entonces"
   ]
  },
  {
   "cell_type": "code",
   "execution_count": 84,
   "metadata": {},
   "outputs": [
    {
     "data": {
      "text/latex": [
       "$$\n",
       "\n",
       "\\begin{bmatrix}\n",
       "\\frac{\\sqrt{2}}{2}  \\\\\n",
       " - \\frac{\\sqrt{2}}{2}  \\\\\n",
       " \\end{bmatrix}\n",
       "$$"
      ],
      "text/plain": [
       "<IPython.core.display.Latex object>"
      ]
     },
     "execution_count": 84,
     "metadata": {},
     "output_type": "execute_result"
    }
   ],
   "source": [
    "ket_plus = [[1/np.sqrt(2)], [-1/np.sqrt(2)]]\n",
    "array_to_latex(ket_plus)"
   ]
  },
  {
   "cell_type": "markdown",
   "metadata": {},
   "source": [
    "El estado $$ | + \\rangle = \\frac{1}{\\sqrt{2}} | 0 \\rangle + \\frac{1}{\\sqrt{2}} | 1\\rangle $$ "
   ]
  },
  {
   "cell_type": "markdown",
   "metadata": {},
   "source": [
    "Puede ser representado:"
   ]
  },
  {
   "cell_type": "code",
   "execution_count": 27,
   "metadata": {},
   "outputs": [
    {
     "data": {
      "text/latex": [
       "$$\n",
       "\n",
       "\\begin{bmatrix}\n",
       "\\frac{\\sqrt{2}}{2}  \\\\\n",
       " \\frac{\\sqrt{2}}{2}  \\\\\n",
       " \\end{bmatrix}\n",
       "$$"
      ],
      "text/plain": [
       "<IPython.core.display.Latex object>"
      ]
     },
     "execution_count": 27,
     "metadata": {},
     "output_type": "execute_result"
    }
   ],
   "source": [
    "ket_plus1 = [[1/np.sqrt(2)], [1/np.sqrt(2)]]\n",
    "array_to_latex(ket_plus1)"
   ]
  },
  {
   "cell_type": "markdown",
   "metadata": {},
   "source": [
    "El estado $$  | - \\rangle = \\frac{1 +2i}{3} | 0 \\rangle - \\frac{2}{3} | 1\\rangle $$"
   ]
  },
  {
   "cell_type": "markdown",
   "metadata": {},
   "source": [
    "Puede ser representado:"
   ]
  },
  {
   "cell_type": "code",
   "execution_count": 68,
   "metadata": {},
   "outputs": [
    {
     "data": {
      "text/latex": [
       "$$\n",
       "\n",
       "\\begin{bmatrix}\n",
       "\\frac{1}{3} + \\frac{2 i}{3}  \\\\\n",
       " - \\frac{2}{3}  \\\\\n",
       " \\end{bmatrix}\n",
       "$$"
      ],
      "text/plain": [
       "<IPython.core.display.Latex object>"
      ]
     },
     "execution_count": 68,
     "metadata": {},
     "output_type": "execute_result"
    }
   ],
   "source": [
    "ket_minus = [[(1+ 2j) /3], [-2/3]]\n",
    "array_to_latex(ket_minus)"
   ]
  },
  {
   "cell_type": "markdown",
   "metadata": {},
   "source": [
    "Luego, se convierten estas listas a vectores de estado de Qiskit mediante la clase Stavector, y se escribiran con el formalismo bracket."
   ]
  },
  {
   "cell_type": "code",
   "execution_count": 85,
   "metadata": {},
   "outputs": [
    {
     "data": {
      "text/latex": [
       "$$\\frac{\\sqrt{2}}{2} |0\\rangle- \\frac{\\sqrt{2}}{2} |1\\rangle$$"
      ],
      "text/plain": [
       "<IPython.core.display.Latex object>"
      ]
     },
     "execution_count": 85,
     "metadata": {},
     "output_type": "execute_result"
    }
   ],
   "source": [
    "Ketplus = Statevector(ket_plus)\n",
    "Ketplus.draw('Latex')"
   ]
  },
  {
   "cell_type": "code",
   "execution_count": 86,
   "metadata": {},
   "outputs": [
    {
     "data": {
      "text/latex": [
       "$$\\frac{\\sqrt{2}}{2} |0\\rangle+\\frac{\\sqrt{2}}{2} |1\\rangle$$"
      ],
      "text/plain": [
       "<IPython.core.display.Latex object>"
      ]
     },
     "execution_count": 86,
     "metadata": {},
     "output_type": "execute_result"
    }
   ],
   "source": [
    "Ketplus1 = Statevector(ket_plus1)\n",
    "Ketplus1.draw('Latex')"
   ]
  },
  {
   "cell_type": "code",
   "execution_count": 87,
   "metadata": {},
   "outputs": [
    {
     "data": {
      "text/latex": [
       "$$(\\frac{1}{3} + \\frac{2 i}{3}) |0\\rangle- \\frac{2}{3} |1\\rangle$$"
      ],
      "text/plain": [
       "<IPython.core.display.Latex object>"
      ]
     },
     "execution_count": 87,
     "metadata": {},
     "output_type": "execute_result"
    }
   ],
   "source": [
    "Ketminus = Statevector(ket_minus)\n",
    "Ketminus.draw('Latex')"
   ]
  },
  {
   "cell_type": "markdown",
   "metadata": {},
   "source": [
    "Vemos si se encuentran normalizados:"
   ]
  },
  {
   "cell_type": "code",
   "execution_count": 88,
   "metadata": {},
   "outputs": [
    {
     "data": {
      "text/plain": [
       "True"
      ]
     },
     "execution_count": 88,
     "metadata": {},
     "output_type": "execute_result"
    }
   ],
   "source": [
    "Ketplus.is_valid()"
   ]
  },
  {
   "cell_type": "code",
   "execution_count": 89,
   "metadata": {},
   "outputs": [
    {
     "data": {
      "text/plain": [
       "True"
      ]
     },
     "execution_count": 89,
     "metadata": {},
     "output_type": "execute_result"
    }
   ],
   "source": [
    "Ketplus1.is_valid()"
   ]
  },
  {
   "cell_type": "code",
   "execution_count": 90,
   "metadata": {},
   "outputs": [
    {
     "data": {
      "text/plain": [
       "True"
      ]
     },
     "execution_count": 90,
     "metadata": {},
     "output_type": "execute_result"
    }
   ],
   "source": [
    "Ketminus.is_valid()"
   ]
  },
  {
   "cell_type": "markdown",
   "metadata": {},
   "source": [
    "Tenemos los qubits desarrollados:"
   ]
  },
  {
   "cell_type": "markdown",
   "metadata": {},
   "source": [
    "$$\\frac{1}{\\sqrt{2}}|0\\rangle - \\frac{1}{\\sqrt{2}}|1\\rangle$$"
   ]
  },
  {
   "cell_type": "markdown",
   "metadata": {},
   "source": [
    "$$\\frac{1}{\\sqrt{2}}|0\\rangle + \\frac{1}{\\sqrt{2}}|1\\rangle$$"
   ]
  },
  {
   "cell_type": "markdown",
   "metadata": {},
   "source": [
    "$$  \\frac{1 +2i}{3} | 0 \\rangle - \\frac{2}{3} | 1\\rangle $$"
   ]
  },
  {
   "cell_type": "markdown",
   "metadata": {},
   "source": [
    "El producto a desarrollar:"
   ]
  },
  {
   "cell_type": "markdown",
   "metadata": {},
   "source": [
    "$$ (\\frac{1}{\\sqrt{2}}|0\\rangle - \\frac{1}{\\sqrt{2}}|1\\rangle) \\otimes (\\frac{1}{\\sqrt{2}}|0\\rangle + \\frac{1}{\\sqrt{2}}|1\\rangle) \\otimes (\\frac{1 +2i}{3} | 0 \\rangle - \\frac{2}{3} | 1\\rangle) $$"
   ]
  },
  {
   "cell_type": "markdown",
   "metadata": {},
   "source": [
    "Teniendo los vectores de estado de los qubits independientes, podemos desarrollar el producto tensorial para lograr obtener el vector estado del sistema completo. Haciendo uso de la clase Operator, se desarrollará el producto tensorial:"
   ]
  },
  {
   "cell_type": "code",
   "execution_count": 96,
   "metadata": {},
   "outputs": [],
   "source": [
    "from qiskit.quantum_info.operators import Operator"
   ]
  },
  {
   "cell_type": "code",
   "execution_count": 100,
   "metadata": {},
   "outputs": [
    {
     "data": {
      "text/latex": [
       "$$(\\frac{1}{2} + \\frac{i}{3}) |000\\rangle- \\frac{1}{3} |001\\rangle+(\\frac{1}{2} + \\frac{i}{3}) |010\\rangle- \\frac{1}{3} |011\\rangle+(- \\frac{1}{2} - \\frac{i}{3}) |100\\rangle+\\frac{1}{3} |101\\rangle+(- \\frac{1}{2} - \\frac{i}{3}) |110\\rangle+\\frac{1}{3} |111\\rangle$$"
      ],
      "text/plain": [
       "<IPython.core.display.Latex object>"
      ]
     },
     "execution_count": 100,
     "metadata": {},
     "output_type": "execute_result"
    }
   ],
   "source": [
    "op_ket_1 = Operator([[1/np.sqrt(2)], [-1/np.sqrt(2)]])\n",
    "op_ket_2 = Operator([[1/np.sqrt(2)], [1/np.sqrt(2)]])\n",
    "op_ket_3 = Operator([[1 +2j/3], [-2/3]])\n",
    "ket_system = Statevector(op_ket_1.tensor(op_ket_2).tensor(op_ket_3))\n",
    "Statevector(op_ket_1.tensor(op_ket_2).tensor(op_ket_3)).draw('Latex')\n"
   ]
  },
  {
   "cell_type": "markdown",
   "metadata": {},
   "source": [
    "Y encontrando las probabilidades de la clase statevector:"
   ]
  },
  {
   "cell_type": "code",
   "execution_count": 103,
   "metadata": {},
   "outputs": [
    {
     "name": "stdout",
     "output_type": "stream",
     "text": [
      "probs: [0.36111111 0.11111111 0.36111111 0.11111111 0.36111111 0.11111111\n",
      " 0.36111111 0.11111111]\n"
     ]
    }
   ],
   "source": [
    "probs_ket_system = ket_system.probabilities()\n",
    "print('probs: {}'.format(probs_ket_system))"
   ]
  },
  {
   "cell_type": "markdown",
   "metadata": {},
   "source": [
    "Midiendo las probabilidades parciales:"
   ]
  },
  {
   "cell_type": "code",
   "execution_count": 104,
   "metadata": {},
   "outputs": [
    {
     "name": "stdout",
     "output_type": "stream",
     "text": [
      "probs: {'0': 1.0, '1': 0.44444444444444425}\n"
     ]
    }
   ],
   "source": [
    "probs_ket_system = ket_system.probabilities_dict([0])\n",
    "print('probs: {}'.format(probs_ket_system))"
   ]
  },
  {
   "cell_type": "code",
   "execution_count": 105,
   "metadata": {},
   "outputs": [
    {
     "name": "stdout",
     "output_type": "stream",
     "text": [
      "probs: {'0': 0.9444444444444441, '1': 0.9444444444444441}\n"
     ]
    }
   ],
   "source": [
    "probs_ket_system = ket_system.probabilities_dict([2])\n",
    "print('probs: {}'.format(probs_ket_system))"
   ]
  },
  {
   "cell_type": "markdown",
   "metadata": {},
   "source": []
  }
 ],
 "metadata": {
  "kernelspec": {
   "display_name": "Python 3",
   "language": "python",
   "name": "python3"
  },
  "language_info": {
   "codemirror_mode": {
    "name": "ipython",
    "version": 3
   },
   "file_extension": ".py",
   "mimetype": "text/x-python",
   "name": "python",
   "nbconvert_exporter": "python",
   "pygments_lexer": "ipython3",
   "version": "3.11.4"
  },
  "orig_nbformat": 4
 },
 "nbformat": 4,
 "nbformat_minor": 2
}
