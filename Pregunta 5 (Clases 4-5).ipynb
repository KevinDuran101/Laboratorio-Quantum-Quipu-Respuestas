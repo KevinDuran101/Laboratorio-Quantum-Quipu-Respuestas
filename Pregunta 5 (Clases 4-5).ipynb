{
 "cells": [
  {
   "cell_type": "markdown",
   "metadata": {},
   "source": [
    "5.- Implementa el código para la función oráculo balanceado con $n=3$, la cual retorna el circuito cuántico qc. Considere que $f(x)$ está dado por:\n",
    "\n",
    "\\begin{align}\n",
    "f(001)&=0\\\\\n",
    "f(000)&=0\\\\\n",
    "f(111)&=0\\\\\n",
    "f(110)&=0\\\\\n",
    "f(011)&=1\\\\\n",
    "f(010)&=1\\\\\n",
    "f(100)&=1\\\\\n",
    "f(101)&=1\\\\\n",
    "\\end{align}"
   ]
  },
  {
   "cell_type": "markdown",
   "metadata": {},
   "source": [
    "Para ello, se procede a implementar el circuito cuántico, creando el oraculo así como el algoritmo Deustch-Jozsa para determinar si es constante o balanceado."
   ]
  },
  {
   "cell_type": "markdown",
   "metadata": {},
   "source": [
    "Se importan los recursos necesarios:"
   ]
  },
  {
   "cell_type": "code",
   "execution_count": 45,
   "metadata": {},
   "outputs": [],
   "source": [
    "from qiskit import QuantumRegister, ClassicalRegister, QuantumCircuit\n",
    "from qiskit.visualization import plot_histogram\n",
    "from qiskit import execute\n",
    "from qiskit import Aer\n",
    "import numpy as np"
   ]
  },
  {
   "cell_type": "markdown",
   "metadata": {},
   "source": [
    "Se procede a desarrollar los circuitos para el oráculo constante y el oráculo balanceado."
   ]
  },
  {
   "cell_type": "markdown",
   "metadata": {},
   "source": [
    "**Oráculo constante**"
   ]
  },
  {
   "cell_type": "markdown",
   "metadata": {},
   "source": [
    "Se va a crear el circuito cuántico con 4 qubits, con 3 que se van a medir y el cuarto es el auxiliar."
   ]
  },
  {
   "cell_type": "code",
   "execution_count": 24,
   "metadata": {},
   "outputs": [
    {
     "data": {
      "text/html": [
       "<pre style=\"word-wrap: normal;white-space: pre;background: #fff0;line-height: 1.1;font-family: &quot;Courier New&quot;,Courier,monospace\">           ░ \n",
       "q_0: ──────░─\n",
       "           ░ \n",
       "q_1: ──────░─\n",
       "           ░ \n",
       "q_2: ──────░─\n",
       "     ┌───┐ ░ \n",
       "q_3: ┤ X ├─░─\n",
       "     └───┘ ░ </pre>"
      ],
      "text/plain": [
       "           ░ \n",
       "q_0: ──────░─\n",
       "           ░ \n",
       "q_1: ──────░─\n",
       "           ░ \n",
       "q_2: ──────░─\n",
       "     ┌───┐ ░ \n",
       "q_3: ┤ X ├─░─\n",
       "     └───┘ ░ "
      ]
     },
     "execution_count": 24,
     "metadata": {},
     "output_type": "execute_result"
    }
   ],
   "source": [
    "oraculo_constante = QuantumCircuit(4)\n",
    "fx = np.random.randint(2)\n",
    "\n",
    "if fx == 1:\n",
    "    oraculo_constante.x(3)\n",
    "oraculo_constante.barrier()\n",
    "oraculo_constante.draw()"
   ]
  },
  {
   "cell_type": "markdown",
   "metadata": {},
   "source": [
    "**Oráculo balanceado**"
   ]
  },
  {
   "cell_type": "markdown",
   "metadata": {},
   "source": [
    "Se crea el circuito cuántico con la misma cantidad qubits, lo que se va a hacer es aplicar la compuerta x sobre el primer qubit y luego establecer compuertas controladas. Donde el control se realiza sobre los tres primeros qubits."
   ]
  },
  {
   "cell_type": "code",
   "execution_count": 25,
   "metadata": {},
   "outputs": [
    {
     "data": {
      "text/html": [
       "<pre style=\"word-wrap: normal;white-space: pre;background: #fff0;line-height: 1.1;font-family: &quot;Courier New&quot;,Courier,monospace\">           ░                 ░       ░ \n",
       "q_0: ──────░───■─────────────░───────░─\n",
       "     ┌───┐ ░   │             ░ ┌───┐ ░ \n",
       "q_1: ┤ X ├─░───┼────■────────░─┤ X ├─░─\n",
       "     └───┘ ░   │    │        ░ └───┘ ░ \n",
       "q_2: ──────░───┼────┼────■───░───────░─\n",
       "           ░ ┌─┴─┐┌─┴─┐┌─┴─┐ ░       ░ \n",
       "q_3: ──────░─┤ X ├┤ X ├┤ X ├─░───────░─\n",
       "           ░ └───┘└───┘└───┘ ░       ░ </pre>"
      ],
      "text/plain": [
       "           ░                 ░       ░ \n",
       "q_0: ──────░───■─────────────░───────░─\n",
       "     ┌───┐ ░   │             ░ ┌───┐ ░ \n",
       "q_1: ┤ X ├─░───┼────■────────░─┤ X ├─░─\n",
       "     └───┘ ░   │    │        ░ └───┘ ░ \n",
       "q_2: ──────░───┼────┼────■───░───────░─\n",
       "           ░ ┌─┴─┐┌─┴─┐┌─┴─┐ ░       ░ \n",
       "q_3: ──────░─┤ X ├┤ X ├┤ X ├─░───────░─\n",
       "           ░ └───┘└───┘└───┘ ░       ░ "
      ]
     },
     "execution_count": 25,
     "metadata": {},
     "output_type": "execute_result"
    }
   ],
   "source": [
    "oraculo_balanceado = QuantumCircuit(4)\n",
    "\n",
    "oraculo_balanceado.x(1)\n",
    "oraculo_balanceado.barrier()\n",
    "\n",
    "for x in range(3):\n",
    "    oraculo_balanceado.cx(x,3)\n",
    "\n",
    "oraculo_balanceado.barrier()\n",
    "oraculo_balanceado.x(1)\n",
    "oraculo_balanceado.barrier()\n",
    "\n",
    "oraculo_balanceado.draw()"
   ]
  },
  {
   "cell_type": "markdown",
   "metadata": {},
   "source": [
    "**Algortimo**"
   ]
  },
  {
   "cell_type": "code",
   "execution_count": 26,
   "metadata": {},
   "outputs": [
    {
     "data": {
      "text/html": [
       "<pre style=\"word-wrap: normal;white-space: pre;background: #fff0;line-height: 1.1;font-family: &quot;Courier New&quot;,Courier,monospace\">                ░ ┌───┐ ░       ░  ░ ┌───┐ ░ ┌─┐      \n",
       "q_0: ───────────░─┤ H ├─░───────░──░─┤ H ├─░─┤M├──────\n",
       "                ░ ├───┤ ░       ░  ░ ├───┤ ░ └╥┘┌─┐   \n",
       "q_1: ───────────░─┤ H ├─░───────░──░─┤ H ├─░──╫─┤M├───\n",
       "                ░ ├───┤ ░       ░  ░ ├───┤ ░  ║ └╥┘┌─┐\n",
       "q_2: ───────────░─┤ H ├─░───────░──░─┤ H ├─░──╫──╫─┤M├\n",
       "     ┌───┐┌───┐ ░ └───┘ ░ ┌───┐ ░  ░ └───┘ ░  ║  ║ └╥┘\n",
       "q_3: ┤ X ├┤ H ├─░───────░─┤ X ├─░──░───────░──╫──╫──╫─\n",
       "     └───┘└───┘ ░       ░ └───┘ ░  ░       ░  ║  ║  ║ \n",
       "c: 3/═════════════════════════════════════════╩══╩══╩═\n",
       "                                              0  1  2 </pre>"
      ],
      "text/plain": [
       "                ░ ┌───┐ ░       ░  ░ ┌───┐ ░ ┌─┐      \n",
       "q_0: ───────────░─┤ H ├─░───────░──░─┤ H ├─░─┤M├──────\n",
       "                ░ ├───┤ ░       ░  ░ ├───┤ ░ └╥┘┌─┐   \n",
       "q_1: ───────────░─┤ H ├─░───────░──░─┤ H ├─░──╫─┤M├───\n",
       "                ░ ├───┤ ░       ░  ░ ├───┤ ░  ║ └╥┘┌─┐\n",
       "q_2: ───────────░─┤ H ├─░───────░──░─┤ H ├─░──╫──╫─┤M├\n",
       "     ┌───┐┌───┐ ░ └───┘ ░ ┌───┐ ░  ░ └───┘ ░  ║  ║ └╥┘\n",
       "q_3: ┤ X ├┤ H ├─░───────░─┤ X ├─░──░───────░──╫──╫──╫─\n",
       "     └───┘└───┘ ░       ░ └───┘ ░  ░       ░  ║  ║  ║ \n",
       "c: 3/═════════════════════════════════════════╩══╩══╩═\n",
       "                                              0  1  2 "
      ]
     },
     "execution_count": 26,
     "metadata": {},
     "output_type": "execute_result"
    }
   ],
   "source": [
    "qc = QuantumCircuit(4,3) #se tiene un registro tanto \n",
    "                         #para la parte cuántica como para la clásica\n",
    "#se miden los tres primeros qubits\n",
    "\n",
    "qc.x(3)\n",
    "qc.h(3)\n",
    "qc.barrier()\n",
    "\n",
    "for x in range(3):\n",
    "    qc.h(x)\n",
    "qc.barrier()\n",
    "\n",
    "qc = qc.compose(oraculo_constante) #se aplica el oraculo\n",
    "qc.barrier()\n",
    "\n",
    "for x in range(3):\n",
    "    qc.h(x)\n",
    "qc.barrier()\n",
    "\n",
    "qc.measure([0,1,2],[0,1,2])\n",
    "qc.draw()"
   ]
  },
  {
   "cell_type": "markdown",
   "metadata": {},
   "source": [
    "Haciendo la medida en el simulador:"
   ]
  }
 ],
 "metadata": {
  "kernelspec": {
   "display_name": "Python 3",
   "language": "python",
   "name": "python3"
  },
  "language_info": {
   "codemirror_mode": {
    "name": "ipython",
    "version": 3
   },
   "file_extension": ".py",
   "mimetype": "text/x-python",
   "name": "python",
   "nbconvert_exporter": "python",
   "pygments_lexer": "ipython3",
   "version": "3.11.4"
  },
  "orig_nbformat": 4
 },
 "nbformat": 4,
 "nbformat_minor": 2
}
